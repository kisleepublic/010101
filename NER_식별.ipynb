{
 "cells": [
  {
   "cell_type": "code",
   "execution_count": 144,
   "id": "d183b44a",
   "metadata": {},
   "outputs": [],
   "source": [
    "import os\n",
    "import glob\n",
    "from tqdm import tqdm"
   ]
  },
  {
   "cell_type": "code",
   "execution_count": 145,
   "id": "839cb63f",
   "metadata": {},
   "outputs": [
    {
     "name": "stdout",
     "output_type": "stream",
     "text": [
      "C:\\Users\\Kislee\\PycharmProjects\\Korean_textbook\\target_data\n"
     ]
    }
   ],
   "source": [
    "#DATA_PATH = os.getcwd() + r'\\rawdata'\n",
    "DATA_PATH = os.getcwd() + r'\\target_data'\n",
    "print(DATA_PATH)"
   ]
  },
  {
   "cell_type": "code",
   "execution_count": 146,
   "id": "dad8c529",
   "metadata": {},
   "outputs": [],
   "source": [
    "files = glob.glob(os.path.join(DATA_PATH, '*.xlsx'))"
   ]
  },
  {
   "cell_type": "code",
   "execution_count": 147,
   "id": "ba49da15",
   "metadata": {
    "scrolled": true
   },
   "outputs": [
    {
     "name": "stdout",
     "output_type": "stream",
     "text": [
      "['C:\\\\Users\\\\Kislee\\\\PycharmProjects\\\\Korean_textbook\\\\target_data\\\\경희대_5급_6급_ver1.0.xlsx', 'C:\\\\Users\\\\Kislee\\\\PycharmProjects\\\\Korean_textbook\\\\target_data\\\\고려대_5급_6급_ver1.0.xlsx', 'C:\\\\Users\\\\Kislee\\\\PycharmProjects\\\\Korean_textbook\\\\target_data\\\\서울대_5급_6급_학문목적듣기_ver1.0.xlsx', 'C:\\\\Users\\\\Kislee\\\\PycharmProjects\\\\Korean_textbook\\\\target_data\\\\성균관대_5급_6급_ver1.0.xlsx', 'C:\\\\Users\\\\Kislee\\\\PycharmProjects\\\\Korean_textbook\\\\target_data\\\\연세대_5급_6급_ver1.0.xlsx', 'C:\\\\Users\\\\Kislee\\\\PycharmProjects\\\\Korean_textbook\\\\target_data\\\\이화여대_5급_6급_ver1.0.xlsx', 'C:\\\\Users\\\\Kislee\\\\PycharmProjects\\\\Korean_textbook\\\\target_data\\\\중앙대_5급_6급_ver1.0.xlsx', 'C:\\\\Users\\\\Kislee\\\\PycharmProjects\\\\Korean_textbook\\\\target_data\\\\한국외대_5급_6급_ver1.0.xlsx', 'C:\\\\Users\\\\Kislee\\\\PycharmProjects\\\\Korean_textbook\\\\target_data\\\\한양대_5급_6급_ver1.0.xlsx']\n"
     ]
    }
   ],
   "source": [
    "print(files)"
   ]
  },
  {
   "cell_type": "code",
   "execution_count": 148,
   "id": "0e3372de",
   "metadata": {},
   "outputs": [],
   "source": [
    "import pandas as pd"
   ]
  },
  {
   "cell_type": "code",
   "execution_count": 149,
   "id": "db5489af",
   "metadata": {},
   "outputs": [],
   "source": [
    "all_dfs = []\n",
    "for source in files:\n",
    "    temp_df = pd.read_excel(source, engine='openpyxl')\n",
    "    all_dfs.append(temp_df)\n",
    "df = pd.concat(all_dfs)"
   ]
  },
  {
   "cell_type": "code",
   "execution_count": 150,
   "id": "9741e666",
   "metadata": {
    "scrolled": false
   },
   "outputs": [
    {
     "data": {
      "text/html": [
       "<div>\n",
       "<style scoped>\n",
       "    .dataframe tbody tr th:only-of-type {\n",
       "        vertical-align: middle;\n",
       "    }\n",
       "\n",
       "    .dataframe tbody tr th {\n",
       "        vertical-align: top;\n",
       "    }\n",
       "\n",
       "    .dataframe thead th {\n",
       "        text-align: right;\n",
       "    }\n",
       "</style>\n",
       "<table border=\"1\" class=\"dataframe\">\n",
       "  <thead>\n",
       "    <tr style=\"text-align: right;\">\n",
       "      <th></th>\n",
       "      <th>학교명</th>\n",
       "      <th>등급</th>\n",
       "      <th>지문</th>\n",
       "    </tr>\n",
       "  </thead>\n",
       "  <tbody>\n",
       "    <tr>\n",
       "      <th>0</th>\n",
       "      <td>경희대</td>\n",
       "      <td>5</td>\n",
       "      <td>장민: 어제 요리 프로그램에서 제철 음식을 가지고 누가 더 맛 있게 만드는지 대결을...</td>\n",
       "    </tr>\n",
       "    <tr>\n",
       "      <th>1</th>\n",
       "      <td>경희대</td>\n",
       "      <td>5</td>\n",
       "      <td>흐엉: 장민, 이 제육볶음 좀 먹어 봐. 어제 마을 장터에 갔는데 직접 만든 고추장...</td>\n",
       "    </tr>\n",
       "    <tr>\n",
       "      <th>2</th>\n",
       "      <td>경희대</td>\n",
       "      <td>5</td>\n",
       "      <td>은영: 승진 시험 준비는 잘 되어 가?\\n상진: 그냥 그래. 요즘 일도 공부도 손에...</td>\n",
       "    </tr>\n",
       "    <tr>\n",
       "      <th>3</th>\n",
       "      <td>경희대</td>\n",
       "      <td>5</td>\n",
       "      <td>의학 전문가: 여러분은 어떻게 휴식을 하십니까? 집에서 텔레비전을 보면서 쉬신다고요...</td>\n",
       "    </tr>\n",
       "    <tr>\n",
       "      <th>4</th>\n",
       "      <td>경희대</td>\n",
       "      <td>5</td>\n",
       "      <td>예술 교육은 우리의 삶에 어떤 영향을 줄까요? 그에 대한 하나의 대답으로 콜롬비아의...</td>\n",
       "    </tr>\n",
       "  </tbody>\n",
       "</table>\n",
       "</div>"
      ],
      "text/plain": [
       "   학교명 등급                                                 지문\n",
       "0  경희대  5  장민: 어제 요리 프로그램에서 제철 음식을 가지고 누가 더 맛 있게 만드는지 대결을...\n",
       "1  경희대  5  흐엉: 장민, 이 제육볶음 좀 먹어 봐. 어제 마을 장터에 갔는데 직접 만든 고추장...\n",
       "2  경희대  5  은영: 승진 시험 준비는 잘 되어 가?\\n상진: 그냥 그래. 요즘 일도 공부도 손에...\n",
       "3  경희대  5  의학 전문가: 여러분은 어떻게 휴식을 하십니까? 집에서 텔레비전을 보면서 쉬신다고요...\n",
       "4  경희대  5  예술 교육은 우리의 삶에 어떤 영향을 줄까요? 그에 대한 하나의 대답으로 콜롬비아의..."
      ]
     },
     "execution_count": 150,
     "metadata": {},
     "output_type": "execute_result"
    }
   ],
   "source": [
    "df.head()"
   ]
  },
  {
   "cell_type": "code",
   "execution_count": 151,
   "id": "c1b0a206",
   "metadata": {},
   "outputs": [
    {
     "data": {
      "text/plain": [
       "288"
      ]
     },
     "execution_count": 151,
     "metadata": {},
     "output_type": "execute_result"
    }
   ],
   "source": [
    "len(df)"
   ]
  },
  {
   "cell_type": "code",
   "execution_count": null,
   "id": "5c9d35bc",
   "metadata": {},
   "outputs": [],
   "source": []
  },
  {
   "cell_type": "code",
   "execution_count": 152,
   "id": "8659cc91",
   "metadata": {},
   "outputs": [],
   "source": [
    "#-*- coding:utf-8 -*-\n",
    "import urllib3\n",
    "import json"
   ]
  },
  {
   "cell_type": "code",
   "execution_count": 153,
   "id": "b4b756d8",
   "metadata": {},
   "outputs": [],
   "source": [
    "# 언어 분석 기술 문어/구어 중 한가지만 선택해 사용\n",
    "# 언어 분석 기술(문어)\n",
    "#openApiURL = \"http://aiopen.etri.re.kr:8000/WiseNLU\" \n",
    "# 언어 분석 기술(구어)\n",
    "openApiURL = \"http://aiopen.etri.re.kr:8000/WiseNLU_spoken\"\n",
    " \n",
    "accessKey = \"37cdd2da-8145-47be-ac46-caae6b04fdcc\"\n",
    "analysisCode = \"ner\""
   ]
  },
  {
   "cell_type": "code",
   "execution_count": 154,
   "id": "2446d3ec",
   "metadata": {},
   "outputs": [],
   "source": [
    "def requestNERfromText(text):\n",
    "    #요청정보 생성\n",
    "    requestJson = {\n",
    "        \"access_key\": accessKey,\n",
    "        \"argument\": {\n",
    "            \"text\": text,\n",
    "            \"analysis_code\": analysisCode\n",
    "        }\n",
    "    }\n",
    "        \n",
    "    http = urllib3.PoolManager()\n",
    "    #API 호출\n",
    "    response = http.request(\n",
    "        \"POST\",\n",
    "        openApiURL,\n",
    "        headers={\"Content-Type\": \"application/json; charset=UTF-8\"},\n",
    "        body=json.dumps(requestJson)\n",
    "    )\n",
    "        \n",
    "    #수신 데이터 변환\n",
    "    if response.status ==  200:\n",
    "        result = json.loads(response.data)\n",
    "    else:\n",
    "        result = None        \n",
    "    \n",
    "    #개체정보 수집\n",
    "    ner_list = []\n",
    "    if result != None:\n",
    "        for sent in result['return_object']['sentence']:\n",
    "            for item in sent['NE']:\n",
    "                ner_list.append((item['text'], item['type']))\n",
    "    \n",
    "    return ner_list   "
   ]
  },
  {
   "cell_type": "code",
   "execution_count": 155,
   "id": "6f647cf8",
   "metadata": {},
   "outputs": [],
   "source": [
    "def isName(tag):\n",
    "    if tag == 'PS_NAME':\n",
    "        return True\n",
    "    else:\n",
    "        return False\n",
    "\n",
    "def isContry(tag):\n",
    "    if tag == 'LCP_COUNTRY':\n",
    "        return True\n",
    "    else:\n",
    "        return False\n",
    "\n",
    "def isTribe(tag):\n",
    "    if tag == 'CV_TRIBE':\n",
    "        return True\n",
    "    else:\n",
    "        return False"
   ]
  },
  {
   "cell_type": "code",
   "execution_count": 156,
   "id": "d237dd1a",
   "metadata": {},
   "outputs": [],
   "source": [
    "#추가할 컬럼들\n",
    "name_columns = [] #외국인인명\n",
    "contry_columns = [] #국가명\n",
    "tribe_columns = [] #민족명"
   ]
  },
  {
   "cell_type": "code",
   "execution_count": 157,
   "id": "6c50f1b2",
   "metadata": {
    "scrolled": true
   },
   "outputs": [
    {
     "name": "stderr",
     "output_type": "stream",
     "text": [
      "100%|████████████████████████████████████████████████████████████████████████████████| 288/288 [02:29<00:00,  1.93it/s]\n"
     ]
    }
   ],
   "source": [
    "attribute='지문'\n",
    "for cell in tqdm(df[attribute]):\n",
    "    ner_info = []\n",
    "    try:\n",
    "        ner_info = requestNERfromText(cell)\n",
    "    except:\n",
    "        print('NER 정보 수집 실패')\n",
    "    \n",
    "    names_in_cell = []\n",
    "    contry_in_cell = []\n",
    "    tribe_in_cell = []\n",
    "    for word, tag in ner_info:\n",
    "        if isName(tag):\n",
    "            names_in_cell.append(word)\n",
    "        elif isContry(tag):\n",
    "            contry_in_cell.append(word)\n",
    "        elif isTribe(tag):\n",
    "            tribe_in_cell.append(word)\n",
    "\n",
    "    name_columns.append(list(set(names_in_cell)))\n",
    "    contry_columns.append(list(set(contry_in_cell)))\n",
    "    tribe_columns.append(list(set(tribe_in_cell)))\n",
    "\n",
    "        "
   ]
  },
  {
   "cell_type": "code",
   "execution_count": 158,
   "id": "c8058fa2",
   "metadata": {},
   "outputs": [],
   "source": [
    "name_columns = ['/'.join(item) for item in name_columns]\n",
    "contry_columns = ['/'.join(item) for item in contry_columns]\n",
    "tribe_columns = ['/'.join(item) for item in tribe_columns]"
   ]
  },
  {
   "cell_type": "code",
   "execution_count": 159,
   "id": "d95662e7",
   "metadata": {},
   "outputs": [],
   "source": [
    "df['외국인인명'] = name_columns\n",
    "df['국가명'] = contry_columns\n",
    "df['민족명'] = tribe_columns"
   ]
  },
  {
   "cell_type": "code",
   "execution_count": 160,
   "id": "013def08",
   "metadata": {},
   "outputs": [],
   "source": [
    "df.to_excel('result.xlsx')"
   ]
  }
 ],
 "metadata": {
  "kernelspec": {
   "display_name": "Python 3",
   "language": "python",
   "name": "python3"
  },
  "language_info": {
   "codemirror_mode": {
    "name": "ipython",
    "version": 3
   },
   "file_extension": ".py",
   "mimetype": "text/x-python",
   "name": "python",
   "nbconvert_exporter": "python",
   "pygments_lexer": "ipython3",
   "version": "3.8.10"
  }
 },
 "nbformat": 4,
 "nbformat_minor": 5
}
