{
 "cells": [
  {
   "cell_type": "code",
   "execution_count": 1,
   "id": "a0de8481",
   "metadata": {},
   "outputs": [],
   "source": [
    "import os\n",
    "import glob\n",
    "from tqdm.notebook import tqdm\n",
    "import pandas as pd\n",
    "import urllib3\n",
    "import json"
   ]
  },
  {
   "cell_type": "code",
   "execution_count": 2,
   "id": "ce3b1dad",
   "metadata": {},
   "outputs": [
    {
     "name": "stdout",
     "output_type": "stream",
     "text": [
      "C:\\Users\\Kislee\\PycharmProjects\\Korean_textbook\\target_data\n"
     ]
    }
   ],
   "source": [
    "DATA_PATH = os.getcwd() + r'\\target_data'\n",
    "print(DATA_PATH)"
   ]
  },
  {
   "cell_type": "code",
   "execution_count": 3,
   "id": "430722e9",
   "metadata": {},
   "outputs": [
    {
     "name": "stdout",
     "output_type": "stream",
     "text": [
      "['C:\\\\Users\\\\Kislee\\\\PycharmProjects\\\\Korean_textbook\\\\target_data\\\\result_211108.xlsx']\n"
     ]
    }
   ],
   "source": [
    "files = glob.glob(os.path.join(DATA_PATH, '*.xlsx'))\n",
    "print(files)"
   ]
  },
  {
   "cell_type": "code",
   "execution_count": 4,
   "id": "97e74ccc",
   "metadata": {},
   "outputs": [],
   "source": [
    "all_dfs = []\n",
    "for source in files:\n",
    "    temp_df = pd.read_excel(source, engine='openpyxl')\n",
    "    all_dfs.append(temp_df)\n",
    "df = pd.concat(all_dfs)"
   ]
  },
  {
   "cell_type": "code",
   "execution_count": 5,
   "id": "639ed7fe",
   "metadata": {},
   "outputs": [],
   "source": [
    "df = df[df['등급'].isin([1,2,3,4,5,6])]"
   ]
  },
  {
   "cell_type": "code",
   "execution_count": 6,
   "id": "5d2cfd47",
   "metadata": {},
   "outputs": [
    {
     "data": {
      "text/plain": [
       "557"
      ]
     },
     "execution_count": 6,
     "metadata": {},
     "output_type": "execute_result"
    }
   ],
   "source": [
    "len(df)"
   ]
  },
  {
   "cell_type": "code",
   "execution_count": 7,
   "id": "d4238824",
   "metadata": {
    "scrolled": true
   },
   "outputs": [
    {
     "data": {
      "text/html": [
       "<div>\n",
       "<style scoped>\n",
       "    .dataframe tbody tr th:only-of-type {\n",
       "        vertical-align: middle;\n",
       "    }\n",
       "\n",
       "    .dataframe tbody tr th {\n",
       "        vertical-align: top;\n",
       "    }\n",
       "\n",
       "    .dataframe thead th {\n",
       "        text-align: right;\n",
       "    }\n",
       "</style>\n",
       "<table border=\"1\" class=\"dataframe\">\n",
       "  <thead>\n",
       "    <tr style=\"text-align: right;\">\n",
       "      <th></th>\n",
       "      <th>학교명</th>\n",
       "      <th>등급</th>\n",
       "      <th>지문</th>\n",
       "    </tr>\n",
       "  </thead>\n",
       "  <tbody>\n",
       "    <tr>\n",
       "      <th>0</th>\n",
       "      <td>경희대</td>\n",
       "      <td>1</td>\n",
       "      <td>1)  가: 저는 장민입니다.\\n    나: 저는 한나 요한손입니다.\\n2)  가:...</td>\n",
       "    </tr>\n",
       "    <tr>\n",
       "      <th>1</th>\n",
       "      <td>경희대</td>\n",
       "      <td>1</td>\n",
       "      <td>1) 가: 어느 나라 사람입니까\\n   나: 저는 러시아 사람입니다.\\n2) 가: ...</td>\n",
       "    </tr>\n",
       "    <tr>\n",
       "      <th>2</th>\n",
       "      <td>경희대</td>\n",
       "      <td>1</td>\n",
       "      <td>1) 제 친구는 친절해요.\\n2) 이 사람은 제 친구 한나예요. 한나는 정말 똑똑해...</td>\n",
       "    </tr>\n",
       "    <tr>\n",
       "      <th>3</th>\n",
       "      <td>경희대</td>\n",
       "      <td>1</td>\n",
       "      <td>1) 가: 그게 뭐예요?\\n   나: 커피예요.\\n2) 가: 이게 한국어로 뭐예요?...</td>\n",
       "    </tr>\n",
       "    <tr>\n",
       "      <th>4</th>\n",
       "      <td>경희대</td>\n",
       "      <td>1</td>\n",
       "      <td>1) 가: 서점이 어디에 있어요?\\n   나: 2층에 있어요.\\n2)  가: 커피숍...</td>\n",
       "    </tr>\n",
       "  </tbody>\n",
       "</table>\n",
       "</div>"
      ],
      "text/plain": [
       "   학교명  등급                                                 지문\n",
       "0  경희대   1  1)  가: 저는 장민입니다.\\n    나: 저는 한나 요한손입니다.\\n2)  가:...\n",
       "1  경희대   1  1) 가: 어느 나라 사람입니까\\n   나: 저는 러시아 사람입니다.\\n2) 가: ...\n",
       "2  경희대   1  1) 제 친구는 친절해요.\\n2) 이 사람은 제 친구 한나예요. 한나는 정말 똑똑해...\n",
       "3  경희대   1  1) 가: 그게 뭐예요?\\n   나: 커피예요.\\n2) 가: 이게 한국어로 뭐예요?...\n",
       "4  경희대   1  1) 가: 서점이 어디에 있어요?\\n   나: 2층에 있어요.\\n2)  가: 커피숍..."
      ]
     },
     "execution_count": 7,
     "metadata": {},
     "output_type": "execute_result"
    }
   ],
   "source": [
    "df.head()"
   ]
  },
  {
   "cell_type": "code",
   "execution_count": 8,
   "id": "d4759533",
   "metadata": {},
   "outputs": [],
   "source": [
    "df_beginner = df[df['등급'].isin([1,2])]\n",
    "df_intermediate = df[df['등급'].isin([3,4])]\n",
    "df_advanced = df[df['등급'].isin([5,6])]"
   ]
  },
  {
   "cell_type": "code",
   "execution_count": 9,
   "id": "126f3a0e",
   "metadata": {},
   "outputs": [],
   "source": [
    "# 언어 분석 기술 문어/구어 중 한가지만 선택해 사용\n",
    "# 언어 분석 기술(문어)\n",
    "#openApiURL = \"http://aiopen.etri.re.kr:8000/WiseNLU\" \n",
    "# 언어 분석 기술(구어)\n",
    "openApiURL = \"http://aiopen.etri.re.kr:8000/WiseNLU_spoken\"\n",
    "accessKey = \"37cdd2da-8145-47be-ac46-caae6b04fdcc\"\n",
    "analysisCode = \"ner\""
   ]
  },
  {
   "cell_type": "code",
   "execution_count": 10,
   "id": "411445de",
   "metadata": {},
   "outputs": [],
   "source": [
    "def requestNERfromText(text):\n",
    "    #요청정보 생성\n",
    "    requestJson = {\n",
    "        \"access_key\": accessKey,\n",
    "        \"argument\": {\n",
    "            \"text\": text,\n",
    "            \"analysis_code\": analysisCode\n",
    "        }\n",
    "    }\n",
    "        \n",
    "    http = urllib3.PoolManager()\n",
    "    #API 호출\n",
    "    response = http.request(\n",
    "        \"POST\",\n",
    "        openApiURL,\n",
    "        headers={\"Content-Type\": \"application/json; charset=UTF-8\"},\n",
    "        body=json.dumps(requestJson)\n",
    "    )\n",
    "        \n",
    "    #수신 데이터 변환\n",
    "    if response.status ==  200:\n",
    "        result = json.loads(response.data)\n",
    "    else:\n",
    "        result = None        \n",
    "    \n",
    "    return result"
   ]
  },
  {
   "cell_type": "code",
   "execution_count": 11,
   "id": "8d985173",
   "metadata": {},
   "outputs": [],
   "source": [
    "def isOCC(tag):\n",
    "    if tag == 'CV_OCCUPATION':\n",
    "        return True\n",
    "    else:\n",
    "        return False\n",
    "\n",
    "def isCountry(tag):\n",
    "    if tag == 'LCP_COUNTRY':\n",
    "        return True\n",
    "    else:\n",
    "        return False"
   ]
  },
  {
   "cell_type": "code",
   "execution_count": 12,
   "id": "7a842763",
   "metadata": {},
   "outputs": [],
   "source": [
    "attribute='지문'"
   ]
  },
  {
   "cell_type": "code",
   "execution_count": 13,
   "id": "dfc5e3d1",
   "metadata": {},
   "outputs": [],
   "source": [
    "#traversal_df = df_beginner\n",
    "#traversal_df = df_intermediate\n",
    "#traversal_df = df_advanced\n",
    "traversal_df = df"
   ]
  },
  {
   "cell_type": "code",
   "execution_count": 14,
   "id": "79cf1521",
   "metadata": {
    "scrolled": true
   },
   "outputs": [],
   "source": [
    "#10000 글자 넘는 지문이 있는지 확인 (etri api에서 10000글자까지 허용)\n",
    "cnt = 0\n",
    "for cell in traversal_df[attribute]:\n",
    "    cnt+=1\n",
    "    if len(cell) > 10000:\n",
    "        print(cnt+1, len(cell))"
   ]
  },
  {
   "cell_type": "code",
   "execution_count": 15,
   "id": "d053e05d",
   "metadata": {
    "scrolled": true
   },
   "outputs": [
    {
     "data": {
      "application/vnd.jupyter.widget-view+json": {
       "model_id": "ad6ec8f6c5d8463bbd1516ffc9f4d5f6",
       "version_major": 2,
       "version_minor": 0
      },
      "text/plain": [
       "  0%|          | 0/557 [00:00<?, ?it/s]"
      ]
     },
     "metadata": {},
     "output_type": "display_data"
    }
   ],
   "source": [
    "etri_results = []\n",
    "\n",
    "for cell in tqdm(traversal_df[attribute]):\n",
    "    try:\n",
    "        ner_info = requestNERfromText(cell)\n",
    "        etri_results.append(ner_info)\n",
    "    except:\n",
    "        print('NER 정보 수집 실패')\n",
    "        etri_results.append(None) #원본 데이터와 수일치"
   ]
  },
  {
   "cell_type": "code",
   "execution_count": 16,
   "id": "b04f45cc",
   "metadata": {},
   "outputs": [
    {
     "data": {
      "text/plain": [
       "557"
      ]
     },
     "execution_count": 16,
     "metadata": {},
     "output_type": "execute_result"
    }
   ],
   "source": [
    "len(etri_results)"
   ]
  },
  {
   "cell_type": "code",
   "execution_count": 17,
   "id": "c60c4069",
   "metadata": {},
   "outputs": [],
   "source": [
    "import pickle"
   ]
  },
  {
   "cell_type": "code",
   "execution_count": 18,
   "id": "4dcc4355",
   "metadata": {},
   "outputs": [],
   "source": [
    "with open('ner_pckl',\"wb\") as f:\n",
    "    pickle.dump(etri_results, f)"
   ]
  },
  {
   "cell_type": "code",
   "execution_count": 19,
   "id": "df777a5b",
   "metadata": {},
   "outputs": [],
   "source": [
    "with open('ner_pckl',\"rb\") as f:\n",
    "    loaded_data = pickle.load(f)"
   ]
  },
  {
   "cell_type": "code",
   "execution_count": 20,
   "id": "3e75485a",
   "metadata": {},
   "outputs": [
    {
     "data": {
      "text/plain": [
       "557"
      ]
     },
     "execution_count": 20,
     "metadata": {},
     "output_type": "execute_result"
    }
   ],
   "source": [
    "len(loaded_data)"
   ]
  },
  {
   "cell_type": "code",
   "execution_count": 21,
   "id": "28572efe",
   "metadata": {},
   "outputs": [],
   "source": [
    "stop_occupation = ['화','사', '여 자','음악 치료']\n",
    "stop_country = ['한국','대한민국','북한','조선','고구려','북','고려','고조선','남한','삼국','신라','한','남북한','한국대','남','한중일','한국적','청','미','대〜한민국','남북','남 한국','남 제','로마','프랑크','리','백제']"
   ]
  },
  {
   "cell_type": "code",
   "execution_count": 23,
   "id": "9f5728f8",
   "metadata": {},
   "outputs": [],
   "source": [
    "count_replace_rule = {'남프랑스':'프랑스'\n",
    "}\n",
    "def exceptional_country_replace(word):\n",
    "    return count_replace_rule.get(word, word)"
   ]
  },
  {
   "cell_type": "code",
   "execution_count": 24,
   "id": "7942009f",
   "metadata": {},
   "outputs": [],
   "source": [
    "#추가할 컬럼들\n",
    "occ_columns = [] #직업명\n",
    "country_columns = [] #국가명\n",
    "\n",
    "for cell in loaded_data:\n",
    "    ner_list = []\n",
    "    if cell != None:\n",
    "        for sent in cell['return_object']['sentence']:\n",
    "            for item in sent['NE']:\n",
    "                ner_list.append((item['text'], item['type']))\n",
    "    \n",
    "    occ_in_cell = []\n",
    "    country_in_cell = []\n",
    "\n",
    "    for word, tag in ner_list:\n",
    "        if isOCC(tag):\n",
    "            refined_word = exceptional_occ_word_replace(word)\n",
    "            if refined_word not in stop_occupation:\n",
    "                occ_in_cell.append(refined_word)\n",
    "        elif isCountry(tag):\n",
    "            refined_word = exceptional_country_replace(word)\n",
    "            if refined_word not in stop_country: #제외국가 설정\n",
    "                country_in_cell.append(refined_word)\n",
    "    \n",
    "    occ_in_cell.sort() #정렬\n",
    "    occ_columns.append(occ_in_cell) \n",
    "    country_in_cell.sort()\n",
    "    country_columns.append(country_in_cell)   "
   ]
  },
  {
   "cell_type": "code",
   "execution_count": 25,
   "id": "9d2ecc32",
   "metadata": {},
   "outputs": [],
   "source": [
    "occ_sum = ['/'.join(item) for item in occ_columns]\n",
    "country_sum = ['/'.join(item) for item in country_columns]"
   ]
  },
  {
   "cell_type": "code",
   "execution_count": 26,
   "id": "0701d03f",
   "metadata": {},
   "outputs": [],
   "source": [
    "df['직업명'] = occ_sum\n",
    "df['국가명'] = country_sum"
   ]
  },
  {
   "cell_type": "code",
   "execution_count": 27,
   "id": "c232d1e2",
   "metadata": {},
   "outputs": [],
   "source": [
    "df.to_excel('result_211111.xlsx')"
   ]
  },
  {
   "cell_type": "code",
   "execution_count": 28,
   "id": "58ae5152",
   "metadata": {},
   "outputs": [
    {
     "data": {
      "text/plain": [
       "557"
      ]
     },
     "execution_count": 28,
     "metadata": {},
     "output_type": "execute_result"
    }
   ],
   "source": [
    "#출현 빈도 확인\n",
    "#탐색 대상\n",
    "#초급 df_beginner.index\n",
    "#중급 df_intermediate.index\n",
    "#고급 df_advanced.index\n",
    "#전체 df.index\n",
    "index_list = df.index\n",
    "len(index_list)"
   ]
  },
  {
   "cell_type": "code",
   "execution_count": 29,
   "id": "56d57944",
   "metadata": {
    "scrolled": true
   },
   "outputs": [
    {
     "name": "stdout",
     "output_type": "stream",
     "text": [
      "출현 국가 수:  51\n",
      "상위빈도 국가 [(130, '중국'), (101, '일본'), (92, '미국'), (48, '베트남'), (30, '프랑스'), (26, '영국'), (25, '태국'), (22, '러시아'), (21, '호주'), (21, '인도'), (21, '독일'), (16, '스페인'), (10, '노르웨이'), (9, '이탈리아'), (9, '그리스'), (7, '필리핀'), (7, '몽골'), (6, '캐나다'), (6, '브라질'), (5, '콜롬비아'), (5, '케냐'), (4, '칠레'), (4, '이집트'), (4, '미얀마'), (3, '투발루'), (3, '이란'), (3, '스웨덴'), (3, '몰디브'), (3, '라오스'), (2, '파라과이'), (2, '코스타리카'), (2, '자메이카'), (2, '예멘'), (2, '아이티'), (2, '스위스'), (2, '부탄'), (2, '말레이시아'), (2, '네팔'), (1, '폴란드'), (1, '파나마'), (1, '터키'), (1, '탄자니아'), (1, '키리바시'), (1, '캄보디아'), (1, '인도네시아'), (1, '우즈베키스탄'), (1, '에티오피아'), (1, '바레인'), (1, '멕시코'), (1, '나이지리아'), (1, '과테말라')]\n"
     ]
    }
   ],
   "source": [
    "country_dic = {}\n",
    "for i in index_list:\n",
    "    for item in country_columns[i]:\n",
    "        country_dic[item] = country_dic.get(item, 0) + 1\n",
    "\n",
    "country_freq = []\n",
    "for key, value in country_dic.items():\n",
    "    country_freq.append((value, key))\n",
    "country_freq.sort(reverse=True)\n",
    "print(\"출현 국가 수: \", len(country_dic))\n",
    "print(\"상위빈도 국가\", country_freq)"
   ]
  },
  {
   "cell_type": "code",
   "execution_count": 31,
   "id": "5dc5adcd",
   "metadata": {},
   "outputs": [],
   "source": [
    "#코드 종료"
   ]
  },
  {
   "cell_type": "code",
   "execution_count": null,
   "id": "0f03fe14",
   "metadata": {},
   "outputs": [],
   "source": []
  }
 ],
 "metadata": {
  "kernelspec": {
   "display_name": "Python 3",
   "language": "python",
   "name": "python3"
  },
  "language_info": {
   "codemirror_mode": {
    "name": "ipython",
    "version": 3
   },
   "file_extension": ".py",
   "mimetype": "text/x-python",
   "name": "python",
   "nbconvert_exporter": "python",
   "pygments_lexer": "ipython3",
   "version": "3.8.10"
  }
 },
 "nbformat": 4,
 "nbformat_minor": 5
}
