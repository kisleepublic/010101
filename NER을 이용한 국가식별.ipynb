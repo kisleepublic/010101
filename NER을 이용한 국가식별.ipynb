{
 "cells": [
  {
   "cell_type": "code",
   "execution_count": 1,
   "id": "a0de8481",
   "metadata": {},
   "outputs": [],
   "source": [
    "import os\n",
    "import glob\n",
    "from tqdm.notebook import tqdm\n",
    "import pandas as pd\n",
    "import urllib3\n",
    "import json"
   ]
  },
  {
   "cell_type": "code",
   "execution_count": 2,
   "id": "ce3b1dad",
   "metadata": {},
   "outputs": [
    {
     "name": "stdout",
     "output_type": "stream",
     "text": [
      "C:\\Users\\Kislee\\PycharmProjects\\Korean_textbook\\target_data\n"
     ]
    }
   ],
   "source": [
    "DATA_PATH = os.getcwd() + r'\\target_data'\n",
    "print(DATA_PATH)"
   ]
  },
  {
   "cell_type": "code",
   "execution_count": 3,
   "id": "430722e9",
   "metadata": {},
   "outputs": [],
   "source": [
    "files = glob.glob(os.path.join(DATA_PATH, '*.xlsx'))"
   ]
  },
  {
   "cell_type": "code",
   "execution_count": 4,
   "id": "97e74ccc",
   "metadata": {},
   "outputs": [],
   "source": [
    "all_dfs = []\n",
    "for source in files:\n",
    "    temp_df = pd.read_excel(source, engine='openpyxl')\n",
    "    all_dfs.append(temp_df)\n",
    "df = pd.concat(all_dfs)"
   ]
  },
  {
   "cell_type": "code",
   "execution_count": 5,
   "id": "126f3a0e",
   "metadata": {},
   "outputs": [],
   "source": [
    "# 언어 분석 기술 문어/구어 중 한가지만 선택해 사용\n",
    "# 언어 분석 기술(문어)\n",
    "#openApiURL = \"http://aiopen.etri.re.kr:8000/WiseNLU\" \n",
    "# 언어 분석 기술(구어)\n",
    "openApiURL = \"http://aiopen.etri.re.kr:8000/WiseNLU_spoken\"\n",
    "accessKey = \"YOUR_ACCESS_KEY\"\n",
    "analysisCode = \"ner\""
   ]
  },
  {
   "cell_type": "code",
   "execution_count": 6,
   "id": "411445de",
   "metadata": {},
   "outputs": [],
   "source": [
    "def requestNERfromText(text):\n",
    "    #요청정보 생성\n",
    "    requestJson = {\n",
    "        \"access_key\": accessKey,\n",
    "        \"argument\": {\n",
    "            \"text\": text,\n",
    "            \"analysis_code\": analysisCode\n",
    "        }\n",
    "    }\n",
    "        \n",
    "    http = urllib3.PoolManager()\n",
    "    #API 호출\n",
    "    response = http.request(\n",
    "        \"POST\",\n",
    "        openApiURL,\n",
    "        headers={\"Content-Type\": \"application/json; charset=UTF-8\"},\n",
    "        body=json.dumps(requestJson)\n",
    "    )\n",
    "        \n",
    "    #수신 데이터 변환\n",
    "    if response.status ==  200:\n",
    "        result = json.loads(response.data)\n",
    "    else:\n",
    "        result = None        \n",
    "    \n",
    "    #개체정보 수집\n",
    "    ner_list = []\n",
    "    if result != None:\n",
    "        for sent in result['return_object']['sentence']:\n",
    "            for item in sent['NE']:\n",
    "                ner_list.append((item['text'], item['type']))\n",
    "    \n",
    "    return ner_list   "
   ]
  },
  {
   "cell_type": "code",
   "execution_count": 7,
   "id": "8d985173",
   "metadata": {},
   "outputs": [],
   "source": [
    "def isName(tag):\n",
    "    if tag == 'PS_NAME':\n",
    "        return True\n",
    "    else:\n",
    "        return False\n",
    "\n",
    "def isCountry(tag):\n",
    "    if tag == 'LCP_COUNTRY':\n",
    "        return True\n",
    "    else:\n",
    "        return False\n",
    "\n",
    "def isTribe(tag):\n",
    "    if tag == 'CV_TRIBE':\n",
    "        return True\n",
    "    else:\n",
    "        return False"
   ]
  },
  {
   "cell_type": "code",
   "execution_count": 8,
   "id": "cacbc6bc",
   "metadata": {},
   "outputs": [],
   "source": [
    "#추가할 컬럼들\n",
    "name_columns = [] #외국인인명\n",
    "country_columns = [] #국가명\n",
    "tribe_columns = [] #민족명"
   ]
  },
  {
   "cell_type": "code",
   "execution_count": 9,
   "id": "7a842763",
   "metadata": {},
   "outputs": [],
   "source": [
    "attribute='지문'\n",
    "stop_country = ['한국','대한민국','북한','조선','고구려','북','고려','고조선','남한','삼국','신라','한','남북한','한국대','남','한중일','한국적','청','미','대〜한민국','남북']"
   ]
  },
  {
   "cell_type": "code",
   "execution_count": 10,
   "id": "d053e05d",
   "metadata": {
    "scrolled": true
   },
   "outputs": [
    {
     "data": {
      "application/vnd.jupyter.widget-view+json": {
       "model_id": "6c81d06bf888468baccbdb9bfe9a8c5b",
       "version_major": 2,
       "version_minor": 0
      },
      "text/plain": [
       "  0%|          | 0/475 [00:00<?, ?it/s]"
      ]
     },
     "metadata": {},
     "output_type": "display_data"
    }
   ],
   "source": [
    "for cell in tqdm(df[attribute]):\n",
    "    ner_info = []\n",
    "    try:\n",
    "        ner_info = requestNERfromText(cell)\n",
    "    except:\n",
    "        print('NER 정보 수집 실패')\n",
    "    \n",
    "    names_in_cell = []\n",
    "    country_in_cell = []\n",
    "    tribe_in_cell = []\n",
    "    for word, tag in ner_info:\n",
    "        if isName(tag):\n",
    "            names_in_cell.append(word)\n",
    "        elif isCountry(tag):\n",
    "            if word not in stop_country: #제외국가 설정\n",
    "                country_in_cell.append(word)\n",
    "        elif isTribe(tag):\n",
    "            tribe_in_cell.append(word)\n",
    "    \n",
    "    name_columns.append(list(set(names_in_cell))) \n",
    "    country_in_cell.sort() #국가 정렬\n",
    "    country_columns.append(country_in_cell) #중복제거없이 모두 나열\n",
    "    tribe_columns.append(list(set(tribe_in_cell)))     "
   ]
  },
  {
   "cell_type": "code",
   "execution_count": 11,
   "id": "8040a070",
   "metadata": {},
   "outputs": [],
   "source": [
    "for countries in country_columns:\n",
    "    for i in range(len(countries)):\n",
    "        countries[i] = countries[i].replace('나우루 공화국','나우루')\n",
    "        countries[i] = countries[i].replace('남프랑스','프랑스')"
   ]
  },
  {
   "cell_type": "code",
   "execution_count": 12,
   "id": "9d2ecc32",
   "metadata": {},
   "outputs": [],
   "source": [
    "name_sum = ['/'.join(item) for item in name_columns]\n",
    "country_sum = ['/'.join(item) for item in country_columns]\n",
    "tribe_sum = ['/'.join(item) for item in tribe_columns]"
   ]
  },
  {
   "cell_type": "code",
   "execution_count": 13,
   "id": "0701d03f",
   "metadata": {},
   "outputs": [],
   "source": [
    "df['외국인인명'] = name_sum\n",
    "df['국가명'] = country_sum\n",
    "df['민족명'] = tribe_sum"
   ]
  },
  {
   "cell_type": "code",
   "execution_count": 15,
   "id": "c232d1e2",
   "metadata": {},
   "outputs": [],
   "source": [
    "df.to_excel('result_211015.xlsx')"
   ]
  },
  {
   "cell_type": "code",
   "execution_count": 16,
   "id": "e078120e",
   "metadata": {},
   "outputs": [
    {
     "name": "stdout",
     "output_type": "stream",
     "text": [
      "상위빈도 국가 [(49, '중국'), (48, '미국'), (43, '일본'), (39, '나우루'), (16, '영국'), (11, '호주'), (11, '스페인'), (10, '독일'), (8, '인도'), (8, '그리스'), (7, '러시아'), (6, '프랑스'), (6, '노르웨이'), (5, '콜롬비아'), (5, '이탈리아'), (5, '브라질'), (5, '몽골'), (4, '태국'), (3, '이란'), (3, '몰디브'), (3, '모나코'), (2, '필리핀'), (2, '파라과이'), (2, '투발루'), (2, '코스타리카'), (2, '케냐'), (2, '캐나다'), (2, '자메이카'), (2, '이집트'), (2, '예멘'), (2, '에티오피아'), (2, '스웨덴'), (2, '부탄'), (2, '베트남'), (2, '라오스'), (1, '파나마'), (1, '탄자니아'), (1, '칠레'), (1, '인도네시아'), (1, '스위스'), (1, '스리랑카'), (1, '뉴질랜드'), (1, '나이지리아'), (1, '과테말라')]\n"
     ]
    }
   ],
   "source": [
    "country_dic = {}\n",
    "for countries in country_columns:\n",
    "    for item in countries:\n",
    "        country_dic[item] = country_dic.get(item, 0) + 1\n",
    "\n",
    "country_freq = []\n",
    "for key, value in country_dic.items():\n",
    "    country_freq.append((value, key))\n",
    "country_freq.sort(reverse=True)\n",
    "print(\"상위빈도 국가\", country_freq)"
   ]
  },
  {
   "cell_type": "code",
   "execution_count": 17,
   "id": "5dc5adcd",
   "metadata": {},
   "outputs": [],
   "source": [
    "#코드 종료"
   ]
  }
 ],
 "metadata": {
  "kernelspec": {
   "display_name": "Python 3",
   "language": "python",
   "name": "python3"
  },
  "language_info": {
   "codemirror_mode": {
    "name": "ipython",
    "version": 3
   },
   "file_extension": ".py",
   "mimetype": "text/x-python",
   "name": "python",
   "nbconvert_exporter": "python",
   "pygments_lexer": "ipython3",
   "version": "3.8.10"
  }
 },
 "nbformat": 4,
 "nbformat_minor": 5
}
